{
  "nbformat": 4,
  "nbformat_minor": 0,
  "metadata": {
    "colab": {
      "provenance": [],
      "gpuType": "T4"
    },
    "kernelspec": {
      "name": "python3",
      "display_name": "Python 3"
    },
    "language_info": {
      "name": "python"
    },
    "accelerator": "GPU"
  },
  "cells": [
    {
      "cell_type": "code",
      "source": [
        "!pip install pandas numpy==1.26.4 torchaudio regex fasttext\n"
      ],
      "metadata": {
        "colab": {
          "base_uri": "https://localhost:8080/"
        },
        "id": "I2n4AM6xIJpZ",
        "outputId": "778b189f-e275-4b3a-9d03-2e2fd9224b34"
      },
      "execution_count": 1,
      "outputs": [
        {
          "output_type": "stream",
          "name": "stdout",
          "text": [
            "Requirement already satisfied: pandas in /usr/local/lib/python3.11/dist-packages (2.2.2)\n",
            "Requirement already satisfied: numpy==1.26.4 in /usr/local/lib/python3.11/dist-packages (1.26.4)\n",
            "Requirement already satisfied: torchaudio in /usr/local/lib/python3.11/dist-packages (2.6.0+cu124)\n",
            "Requirement already satisfied: regex in /usr/local/lib/python3.11/dist-packages (2024.11.6)\n",
            "Requirement already satisfied: fasttext in /usr/local/lib/python3.11/dist-packages (0.9.3)\n",
            "Requirement already satisfied: python-dateutil>=2.8.2 in /usr/local/lib/python3.11/dist-packages (from pandas) (2.9.0.post0)\n",
            "Requirement already satisfied: pytz>=2020.1 in /usr/local/lib/python3.11/dist-packages (from pandas) (2025.2)\n",
            "Requirement already satisfied: tzdata>=2022.7 in /usr/local/lib/python3.11/dist-packages (from pandas) (2025.2)\n",
            "Requirement already satisfied: torch==2.6.0 in /usr/local/lib/python3.11/dist-packages (from torchaudio) (2.6.0+cu124)\n",
            "Requirement already satisfied: filelock in /usr/local/lib/python3.11/dist-packages (from torch==2.6.0->torchaudio) (3.18.0)\n",
            "Requirement already satisfied: typing-extensions>=4.10.0 in /usr/local/lib/python3.11/dist-packages (from torch==2.6.0->torchaudio) (4.14.1)\n",
            "Requirement already satisfied: networkx in /usr/local/lib/python3.11/dist-packages (from torch==2.6.0->torchaudio) (3.5)\n",
            "Requirement already satisfied: jinja2 in /usr/local/lib/python3.11/dist-packages (from torch==2.6.0->torchaudio) (3.1.6)\n",
            "Requirement already satisfied: fsspec in /usr/local/lib/python3.11/dist-packages (from torch==2.6.0->torchaudio) (2025.3.2)\n",
            "Requirement already satisfied: nvidia-cuda-nvrtc-cu12==12.4.127 in /usr/local/lib/python3.11/dist-packages (from torch==2.6.0->torchaudio) (12.4.127)\n",
            "Requirement already satisfied: nvidia-cuda-runtime-cu12==12.4.127 in /usr/local/lib/python3.11/dist-packages (from torch==2.6.0->torchaudio) (12.4.127)\n",
            "Requirement already satisfied: nvidia-cuda-cupti-cu12==12.4.127 in /usr/local/lib/python3.11/dist-packages (from torch==2.6.0->torchaudio) (12.4.127)\n",
            "Requirement already satisfied: nvidia-cudnn-cu12==9.1.0.70 in /usr/local/lib/python3.11/dist-packages (from torch==2.6.0->torchaudio) (9.1.0.70)\n",
            "Requirement already satisfied: nvidia-cublas-cu12==12.4.5.8 in /usr/local/lib/python3.11/dist-packages (from torch==2.6.0->torchaudio) (12.4.5.8)\n",
            "Requirement already satisfied: nvidia-cufft-cu12==11.2.1.3 in /usr/local/lib/python3.11/dist-packages (from torch==2.6.0->torchaudio) (11.2.1.3)\n",
            "Requirement already satisfied: nvidia-curand-cu12==10.3.5.147 in /usr/local/lib/python3.11/dist-packages (from torch==2.6.0->torchaudio) (10.3.5.147)\n",
            "Requirement already satisfied: nvidia-cusolver-cu12==11.6.1.9 in /usr/local/lib/python3.11/dist-packages (from torch==2.6.0->torchaudio) (11.6.1.9)\n",
            "Requirement already satisfied: nvidia-cusparse-cu12==12.3.1.170 in /usr/local/lib/python3.11/dist-packages (from torch==2.6.0->torchaudio) (12.3.1.170)\n",
            "Requirement already satisfied: nvidia-cusparselt-cu12==0.6.2 in /usr/local/lib/python3.11/dist-packages (from torch==2.6.0->torchaudio) (0.6.2)\n",
            "Requirement already satisfied: nvidia-nccl-cu12==2.21.5 in /usr/local/lib/python3.11/dist-packages (from torch==2.6.0->torchaudio) (2.21.5)\n",
            "Requirement already satisfied: nvidia-nvtx-cu12==12.4.127 in /usr/local/lib/python3.11/dist-packages (from torch==2.6.0->torchaudio) (12.4.127)\n",
            "Requirement already satisfied: nvidia-nvjitlink-cu12==12.4.127 in /usr/local/lib/python3.11/dist-packages (from torch==2.6.0->torchaudio) (12.4.127)\n",
            "Requirement already satisfied: triton==3.2.0 in /usr/local/lib/python3.11/dist-packages (from torch==2.6.0->torchaudio) (3.2.0)\n",
            "Requirement already satisfied: sympy==1.13.1 in /usr/local/lib/python3.11/dist-packages (from torch==2.6.0->torchaudio) (1.13.1)\n",
            "Requirement already satisfied: mpmath<1.4,>=1.1.0 in /usr/local/lib/python3.11/dist-packages (from sympy==1.13.1->torch==2.6.0->torchaudio) (1.3.0)\n",
            "Requirement already satisfied: pybind11>=2.2 in /usr/local/lib/python3.11/dist-packages (from fasttext) (3.0.0)\n",
            "Requirement already satisfied: setuptools>=0.7.0 in /usr/local/lib/python3.11/dist-packages (from fasttext) (75.2.0)\n",
            "Requirement already satisfied: six>=1.5 in /usr/local/lib/python3.11/dist-packages (from python-dateutil>=2.8.2->pandas) (1.17.0)\n",
            "Requirement already satisfied: MarkupSafe>=2.0 in /usr/local/lib/python3.11/dist-packages (from jinja2->torch==2.6.0->torchaudio) (3.0.2)\n"
          ]
        }
      ]
    },
    {
      "cell_type": "code",
      "source": [
        "!wget -q https://dl.fbaipublicfiles.com/fasttext/supervised-models/lid.176.bin\n"
      ],
      "metadata": {
        "id": "Eem9ogfMHNST"
      },
      "execution_count": 2,
      "outputs": []
    },
    {
      "cell_type": "code",
      "source": [
        "import pandas as pd\n",
        "import numpy as np\n",
        "import regex as re\n",
        "import unicodedata\n",
        "import torchaudio\n",
        "import fasttext\n"
      ],
      "metadata": {
        "id": "kkPbZTByLKdT"
      },
      "execution_count": 3,
      "outputs": []
    },
    {
      "cell_type": "code",
      "source": [
        "ft_model = fasttext.load_model(\"lid.176.bin\")\n",
        "\n",
        "def predict_language_fasttext(text):\n",
        "    if not isinstance(text, str) or text.strip() == \"\":\n",
        "        return \"unknown\"\n",
        "    prediction = ft_model.predict(text.strip().replace(\"\\n\", \" \"))[0][0]\n",
        "    return prediction.replace(\"__label__\", \"\")\n"
      ],
      "metadata": {
        "id": "g7rA-I2PLKZx"
      },
      "execution_count": 12,
      "outputs": []
    },
    {
      "cell_type": "code",
      "source": [
        "DIGIT_MAP_HI = {\n",
        "    '0': 'शून्य', '1': 'एक', '2': 'दो', '3': 'तीन', '4': 'चार',\n",
        "    '5': 'पांच', '6': 'छह', '7': 'सात', '8': 'आठ', '9': 'नौ'\n",
        "}\n"
      ],
      "metadata": {
        "id": "tno8KfwpLKXp"
      },
      "execution_count": 13,
      "outputs": []
    },
    {
      "cell_type": "code",
      "source": [
        "ALLOWED_PUNCTUATION = set(\". , ? ! ' - : ;\")\n",
        "ALLOWED_NON_VERBAL_TOKENS = [\"[laugh]\", \"[breath]\", \"[cough]\", \"[pause]\", \"[noise]\"]\n",
        "\n",
        "def expand_digits(text, digit_map):\n",
        "    return re.sub(r'\\d', lambda m: digit_map.get(m.group(0), m.group(0)), text)\n",
        "\n",
        "def preserve_non_verbal_tokens(text):\n",
        "    for token in ALLOWED_NON_VERBAL_TOKENS:\n",
        "        text = text.replace(token, f\" {token} \")\n",
        "    return text\n",
        "\n",
        "def normalize_text(text, lang='hi'):\n",
        "    if not isinstance(text, str) or text.strip() == '':\n",
        "        return ''\n",
        "\n",
        "    text = preserve_non_verbal_tokens(text)\n",
        "    text = unicodedata.normalize(\"NFC\", text)\n",
        "\n",
        "    # Retain allowed punctuation and brackets for tokens\n",
        "    text = ''.join(\n",
        "        ch if (ch.isalnum() or ch.isspace() or ch in ALLOWED_PUNCTUATION or ch in \"[]\") else \" \"\n",
        "        for ch in text\n",
        "    )\n",
        "\n",
        "    if lang == 'hi':\n",
        "        text = expand_digits(text, DIGIT_MAP_HI)\n",
        "\n",
        "    if lang == 'en':\n",
        "        text = text.lower()\n",
        "\n",
        "    text = re.sub(r\"[\\s\\u200c\\u200d\\u00A0]+\", \" \", text).strip()\n",
        "    return text\n"
      ],
      "metadata": {
        "id": "k7CPO9NsLKVC"
      },
      "execution_count": 14,
      "outputs": []
    },
    {
      "cell_type": "code",
      "source": [
        "def validate_audio_stub(audio_path, duration_sec):\n",
        "    if not isinstance(audio_path, str) or not audio_path.startswith(\"s3://\"):\n",
        "        return False, \"InvalidAudioPath\"\n",
        "    try:\n",
        "        if float(duration_sec) > 15.0:\n",
        "            return False, \"DurationTooLong\"\n",
        "    except:\n",
        "        return False, \"InvalidDuration\"\n",
        "    return True, \"\"\n"
      ],
      "metadata": {
        "id": "IWSJ1gduLKSg"
      },
      "execution_count": 15,
      "outputs": []
    },
    {
      "cell_type": "code",
      "source": [
        "def process_metadata(input_csv_path, output_dir=\".\"):\n",
        "    df = pd.read_csv(input_csv_path)\n",
        "\n",
        "    clean_rows = []\n",
        "    rejected_rows = []\n",
        "\n",
        "    for idx, row in df.iterrows():\n",
        "        reasons = []\n",
        "        lang_warning = \"\"\n",
        "\n",
        "        audio_ok, audio_reason = validate_audio_stub(row.get(\"audio_path\"), row.get(\"duration_sec\"))\n",
        "        if not audio_ok:\n",
        "            reasons.append(audio_reason)\n",
        "\n",
        "        raw_text = row.get(\"transcription_raw\", \"\")\n",
        "        if pd.isna(raw_text) or str(raw_text).strip() == \"\":\n",
        "            reasons.append(\"MissingTranscription\")\n",
        "            normalized_text = \"\"\n",
        "        else:\n",
        "            normalized_text = normalize_text(raw_text, row['language'])\n",
        "\n",
        "        if isinstance(raw_text, str) and raw_text.strip() != \"\":\n",
        "            predicted_lang = predict_language_fasttext(raw_text)\n",
        "            if predicted_lang != row['language']:\n",
        "                lang_warning = f\"Detected:{predicted_lang}\"\n",
        "\n",
        "        if reasons:\n",
        "            rejected_rows.append({**row, \"reason\": \";\".join(reasons)})\n",
        "        else:\n",
        "            clean_rows.append({\n",
        "                \"utterance_id\": row[\"utterance_id\"],\n",
        "                \"audio_path\": row[\"audio_path\"],\n",
        "                \"language\": row[\"language\"],\n",
        "                \"speaker_id\": row[\"speaker_id\"],\n",
        "                \"gender\": row[\"gender\"],\n",
        "                \"transcription\": normalized_text,\n",
        "                \"duration_sec\": row[\"duration_sec\"],\n",
        "                \"noise_level_db\": row[\"noise_level_db\"],\n",
        "                \"collection_source\": row[\"collection_source\"],\n",
        "                \"quality_flag\": row[\"quality_flag\"],\n",
        "                \"lang_warning\": lang_warning\n",
        "            })\n",
        "\n",
        "    train_ready = pd.DataFrame(clean_rows)\n",
        "    rejected = pd.DataFrame(rejected_rows)\n",
        "\n",
        "    train_ready.to_csv(f\"{output_dir}/train_ready.csv\", index=False)\n",
        "    rejected.to_csv(f\"{output_dir}/rejected.csv\", index=False)\n",
        "\n",
        "    print(f\" Clean rows: {len(train_ready)}\")\n",
        "    print(f\" Rejected rows: {len(rejected)}\")\n",
        "    if not rejected.empty:\n",
        "        print(\" Sample rejections:\\n\", rejected[['utterance_id', 'reason']].head())\n"
      ],
      "metadata": {
        "id": "3TYPEqIBLKP0"
      },
      "execution_count": 16,
      "outputs": []
    },
    {
      "cell_type": "code",
      "source": [
        "from google.colab import files\n",
        "uploaded = files.upload()\n"
      ],
      "metadata": {
        "colab": {
          "base_uri": "https://localhost:8080/",
          "height": 73
        },
        "id": "d2vy63sNLpE0",
        "outputId": "e0863d59-2981-41da-c9f3-a131008c5778"
      },
      "execution_count": 57,
      "outputs": [
        {
          "output_type": "display_data",
          "data": {
            "text/plain": [
              "<IPython.core.display.HTML object>"
            ],
            "text/html": [
              "\n",
              "     <input type=\"file\" id=\"files-e09568f3-86e2-45d5-bcd7-5930cc9b7e03\" name=\"files[]\" multiple disabled\n",
              "        style=\"border:none\" />\n",
              "     <output id=\"result-e09568f3-86e2-45d5-bcd7-5930cc9b7e03\">\n",
              "      Upload widget is only available when the cell has been executed in the\n",
              "      current browser session. Please rerun this cell to enable.\n",
              "      </output>\n",
              "      <script>// Copyright 2017 Google LLC\n",
              "//\n",
              "// Licensed under the Apache License, Version 2.0 (the \"License\");\n",
              "// you may not use this file except in compliance with the License.\n",
              "// You may obtain a copy of the License at\n",
              "//\n",
              "//      http://www.apache.org/licenses/LICENSE-2.0\n",
              "//\n",
              "// Unless required by applicable law or agreed to in writing, software\n",
              "// distributed under the License is distributed on an \"AS IS\" BASIS,\n",
              "// WITHOUT WARRANTIES OR CONDITIONS OF ANY KIND, either express or implied.\n",
              "// See the License for the specific language governing permissions and\n",
              "// limitations under the License.\n",
              "\n",
              "/**\n",
              " * @fileoverview Helpers for google.colab Python module.\n",
              " */\n",
              "(function(scope) {\n",
              "function span(text, styleAttributes = {}) {\n",
              "  const element = document.createElement('span');\n",
              "  element.textContent = text;\n",
              "  for (const key of Object.keys(styleAttributes)) {\n",
              "    element.style[key] = styleAttributes[key];\n",
              "  }\n",
              "  return element;\n",
              "}\n",
              "\n",
              "// Max number of bytes which will be uploaded at a time.\n",
              "const MAX_PAYLOAD_SIZE = 100 * 1024;\n",
              "\n",
              "function _uploadFiles(inputId, outputId) {\n",
              "  const steps = uploadFilesStep(inputId, outputId);\n",
              "  const outputElement = document.getElementById(outputId);\n",
              "  // Cache steps on the outputElement to make it available for the next call\n",
              "  // to uploadFilesContinue from Python.\n",
              "  outputElement.steps = steps;\n",
              "\n",
              "  return _uploadFilesContinue(outputId);\n",
              "}\n",
              "\n",
              "// This is roughly an async generator (not supported in the browser yet),\n",
              "// where there are multiple asynchronous steps and the Python side is going\n",
              "// to poll for completion of each step.\n",
              "// This uses a Promise to block the python side on completion of each step,\n",
              "// then passes the result of the previous step as the input to the next step.\n",
              "function _uploadFilesContinue(outputId) {\n",
              "  const outputElement = document.getElementById(outputId);\n",
              "  const steps = outputElement.steps;\n",
              "\n",
              "  const next = steps.next(outputElement.lastPromiseValue);\n",
              "  return Promise.resolve(next.value.promise).then((value) => {\n",
              "    // Cache the last promise value to make it available to the next\n",
              "    // step of the generator.\n",
              "    outputElement.lastPromiseValue = value;\n",
              "    return next.value.response;\n",
              "  });\n",
              "}\n",
              "\n",
              "/**\n",
              " * Generator function which is called between each async step of the upload\n",
              " * process.\n",
              " * @param {string} inputId Element ID of the input file picker element.\n",
              " * @param {string} outputId Element ID of the output display.\n",
              " * @return {!Iterable<!Object>} Iterable of next steps.\n",
              " */\n",
              "function* uploadFilesStep(inputId, outputId) {\n",
              "  const inputElement = document.getElementById(inputId);\n",
              "  inputElement.disabled = false;\n",
              "\n",
              "  const outputElement = document.getElementById(outputId);\n",
              "  outputElement.innerHTML = '';\n",
              "\n",
              "  const pickedPromise = new Promise((resolve) => {\n",
              "    inputElement.addEventListener('change', (e) => {\n",
              "      resolve(e.target.files);\n",
              "    });\n",
              "  });\n",
              "\n",
              "  const cancel = document.createElement('button');\n",
              "  inputElement.parentElement.appendChild(cancel);\n",
              "  cancel.textContent = 'Cancel upload';\n",
              "  const cancelPromise = new Promise((resolve) => {\n",
              "    cancel.onclick = () => {\n",
              "      resolve(null);\n",
              "    };\n",
              "  });\n",
              "\n",
              "  // Wait for the user to pick the files.\n",
              "  const files = yield {\n",
              "    promise: Promise.race([pickedPromise, cancelPromise]),\n",
              "    response: {\n",
              "      action: 'starting',\n",
              "    }\n",
              "  };\n",
              "\n",
              "  cancel.remove();\n",
              "\n",
              "  // Disable the input element since further picks are not allowed.\n",
              "  inputElement.disabled = true;\n",
              "\n",
              "  if (!files) {\n",
              "    return {\n",
              "      response: {\n",
              "        action: 'complete',\n",
              "      }\n",
              "    };\n",
              "  }\n",
              "\n",
              "  for (const file of files) {\n",
              "    const li = document.createElement('li');\n",
              "    li.append(span(file.name, {fontWeight: 'bold'}));\n",
              "    li.append(span(\n",
              "        `(${file.type || 'n/a'}) - ${file.size} bytes, ` +\n",
              "        `last modified: ${\n",
              "            file.lastModifiedDate ? file.lastModifiedDate.toLocaleDateString() :\n",
              "                                    'n/a'} - `));\n",
              "    const percent = span('0% done');\n",
              "    li.appendChild(percent);\n",
              "\n",
              "    outputElement.appendChild(li);\n",
              "\n",
              "    const fileDataPromise = new Promise((resolve) => {\n",
              "      const reader = new FileReader();\n",
              "      reader.onload = (e) => {\n",
              "        resolve(e.target.result);\n",
              "      };\n",
              "      reader.readAsArrayBuffer(file);\n",
              "    });\n",
              "    // Wait for the data to be ready.\n",
              "    let fileData = yield {\n",
              "      promise: fileDataPromise,\n",
              "      response: {\n",
              "        action: 'continue',\n",
              "      }\n",
              "    };\n",
              "\n",
              "    // Use a chunked sending to avoid message size limits. See b/62115660.\n",
              "    let position = 0;\n",
              "    do {\n",
              "      const length = Math.min(fileData.byteLength - position, MAX_PAYLOAD_SIZE);\n",
              "      const chunk = new Uint8Array(fileData, position, length);\n",
              "      position += length;\n",
              "\n",
              "      const base64 = btoa(String.fromCharCode.apply(null, chunk));\n",
              "      yield {\n",
              "        response: {\n",
              "          action: 'append',\n",
              "          file: file.name,\n",
              "          data: base64,\n",
              "        },\n",
              "      };\n",
              "\n",
              "      let percentDone = fileData.byteLength === 0 ?\n",
              "          100 :\n",
              "          Math.round((position / fileData.byteLength) * 100);\n",
              "      percent.textContent = `${percentDone}% done`;\n",
              "\n",
              "    } while (position < fileData.byteLength);\n",
              "  }\n",
              "\n",
              "  // All done.\n",
              "  yield {\n",
              "    response: {\n",
              "      action: 'complete',\n",
              "    }\n",
              "  };\n",
              "}\n",
              "\n",
              "scope.google = scope.google || {};\n",
              "scope.google.colab = scope.google.colab || {};\n",
              "scope.google.colab._files = {\n",
              "  _uploadFiles,\n",
              "  _uploadFilesContinue,\n",
              "};\n",
              "})(self);\n",
              "</script> "
            ]
          },
          "metadata": {}
        },
        {
          "output_type": "stream",
          "name": "stdout",
          "text": [
            "Saving utterances_metadata.csv to utterances_metadata (1).csv\n"
          ]
        }
      ]
    },
    {
      "cell_type": "code",
      "source": [
        "process_metadata(\"/content/utterances_metadata.csv\")\n"
      ],
      "metadata": {
        "colab": {
          "base_uri": "https://localhost:8080/"
        },
        "id": "buDwgVJALe5z",
        "outputId": "529bb686-9968-4b92-8865-4f58d26b1247"
      },
      "execution_count": 17,
      "outputs": [
        {
          "output_type": "stream",
          "name": "stdout",
          "text": [
            " Clean rows: 1886\n",
            " Rejected rows: 114\n",
            " Sample rejections:\n",
            "   utterance_id                reason\n",
            "0     utt_0019  MissingTranscription\n",
            "1     utt_0030  MissingTranscription\n",
            "2     utt_0072  MissingTranscription\n",
            "3     utt_0093  MissingTranscription\n",
            "4     utt_0147  MissingTranscription\n"
          ]
        }
      ]
    },
    {
      "cell_type": "code",
      "source": [
        "from google.colab import files\n",
        "\n",
        "files.download(\"train_ready.csv\")\n",
        "files.download(\"rejected.csv\")"
      ],
      "metadata": {
        "colab": {
          "base_uri": "https://localhost:8080/",
          "height": 17
        },
        "id": "P3REy2GULkiu",
        "outputId": "237c1096-91fa-4c5e-d78b-8cd2a981a5d0"
      },
      "execution_count": 19,
      "outputs": [
        {
          "output_type": "display_data",
          "data": {
            "text/plain": [
              "<IPython.core.display.Javascript object>"
            ],
            "application/javascript": [
              "\n",
              "    async function download(id, filename, size) {\n",
              "      if (!google.colab.kernel.accessAllowed) {\n",
              "        return;\n",
              "      }\n",
              "      const div = document.createElement('div');\n",
              "      const label = document.createElement('label');\n",
              "      label.textContent = `Downloading \"${filename}\": `;\n",
              "      div.appendChild(label);\n",
              "      const progress = document.createElement('progress');\n",
              "      progress.max = size;\n",
              "      div.appendChild(progress);\n",
              "      document.body.appendChild(div);\n",
              "\n",
              "      const buffers = [];\n",
              "      let downloaded = 0;\n",
              "\n",
              "      const channel = await google.colab.kernel.comms.open(id);\n",
              "      // Send a message to notify the kernel that we're ready.\n",
              "      channel.send({})\n",
              "\n",
              "      for await (const message of channel.messages) {\n",
              "        // Send a message to notify the kernel that we're ready.\n",
              "        channel.send({})\n",
              "        if (message.buffers) {\n",
              "          for (const buffer of message.buffers) {\n",
              "            buffers.push(buffer);\n",
              "            downloaded += buffer.byteLength;\n",
              "            progress.value = downloaded;\n",
              "          }\n",
              "        }\n",
              "      }\n",
              "      const blob = new Blob(buffers, {type: 'application/binary'});\n",
              "      const a = document.createElement('a');\n",
              "      a.href = window.URL.createObjectURL(blob);\n",
              "      a.download = filename;\n",
              "      div.appendChild(a);\n",
              "      a.click();\n",
              "      div.remove();\n",
              "    }\n",
              "  "
            ]
          },
          "metadata": {}
        },
        {
          "output_type": "display_data",
          "data": {
            "text/plain": [
              "<IPython.core.display.Javascript object>"
            ],
            "application/javascript": [
              "download(\"download_df4d53bf-d249-407a-9e35-f99b6157b9f9\", \"train_ready.csv\", 245566)"
            ]
          },
          "metadata": {}
        },
        {
          "output_type": "display_data",
          "data": {
            "text/plain": [
              "<IPython.core.display.Javascript object>"
            ],
            "application/javascript": [
              "\n",
              "    async function download(id, filename, size) {\n",
              "      if (!google.colab.kernel.accessAllowed) {\n",
              "        return;\n",
              "      }\n",
              "      const div = document.createElement('div');\n",
              "      const label = document.createElement('label');\n",
              "      label.textContent = `Downloading \"${filename}\": `;\n",
              "      div.appendChild(label);\n",
              "      const progress = document.createElement('progress');\n",
              "      progress.max = size;\n",
              "      div.appendChild(progress);\n",
              "      document.body.appendChild(div);\n",
              "\n",
              "      const buffers = [];\n",
              "      let downloaded = 0;\n",
              "\n",
              "      const channel = await google.colab.kernel.comms.open(id);\n",
              "      // Send a message to notify the kernel that we're ready.\n",
              "      channel.send({})\n",
              "\n",
              "      for await (const message of channel.messages) {\n",
              "        // Send a message to notify the kernel that we're ready.\n",
              "        channel.send({})\n",
              "        if (message.buffers) {\n",
              "          for (const buffer of message.buffers) {\n",
              "            buffers.push(buffer);\n",
              "            downloaded += buffer.byteLength;\n",
              "            progress.value = downloaded;\n",
              "          }\n",
              "        }\n",
              "      }\n",
              "      const blob = new Blob(buffers, {type: 'application/binary'});\n",
              "      const a = document.createElement('a');\n",
              "      a.href = window.URL.createObjectURL(blob);\n",
              "      a.download = filename;\n",
              "      div.appendChild(a);\n",
              "      a.click();\n",
              "      div.remove();\n",
              "    }\n",
              "  "
            ]
          },
          "metadata": {}
        },
        {
          "output_type": "display_data",
          "data": {
            "text/plain": [
              "<IPython.core.display.Javascript object>"
            ],
            "application/javascript": [
              "download(\"download_eee3f41c-4570-44cd-93c9-4a7e3bf5958c\", \"rejected.csv\", 12498)"
            ]
          },
          "metadata": {}
        }
      ]
    },
    {
      "cell_type": "code",
      "source": [
        "def keep_allowed_characters(text):\n",
        "    \"\"\"Keep letters, numbers, marks (matras), whitespace, allowed punctuation, and token brackets.\"\"\"\n",
        "    return ''.join(\n",
        "        ch if (unicodedata.category(ch)[0] in [\"L\", \"N\", \"M\"] or ch.isspace() or ch in ALLOWED_PUNCTUATION or ch in \"[]\")\n",
        "        else \" \"\n",
        "        for ch in text\n",
        "    )\n"
      ],
      "metadata": {
        "id": "u3AOmnRkP67e"
      },
      "execution_count": 25,
      "outputs": []
    },
    {
      "cell_type": "code",
      "source": [
        "def normalize_text(text, lang='hi'):\n",
        "    if not isinstance(text, str) or text.strip() == '':\n",
        "        return ''\n",
        "\n",
        "    text = preserve_non_verbal_tokens(text)\n",
        "    text = unicodedata.normalize(\"NFC\", text)\n",
        "    text = keep_allowed_characters(text)\n",
        "\n",
        "    if lang == 'hi':\n",
        "        text = expand_digits(text, DIGIT_MAP_HI)\n",
        "\n",
        "    if lang == 'en':\n",
        "        text = text.lower()\n",
        "\n",
        "    text = re.sub(r\"[\\s\\u200c\\u200d\\u00A0]+\", \" \", text).strip()\n",
        "    return text\n"
      ],
      "metadata": {
        "id": "S7Sx1fZtP-sA"
      },
      "execution_count": 26,
      "outputs": []
    },
    {
      "cell_type": "code",
      "source": [
        "def test_normalize_text():\n",
        "    assert normalize_text(\"मैं 2 स्कूल जा रहा हूँ!\", \"hi\") == \"मैं दो स्कूल जा रहा हूँ!\"\n",
        "    assert normalize_text(\"HELLO! 2 SCHOOL. [laugh]\", \"en\") == \"hello! 2 school. [laugh]\"\n",
        "    print(\" All normalization tests passed!\")\n"
      ],
      "metadata": {
        "id": "Ke1O18xLPzOA"
      },
      "execution_count": 28,
      "outputs": []
    },
    {
      "cell_type": "code",
      "source": [],
      "metadata": {
        "id": "FpldffQ-P0uW"
      },
      "execution_count": null,
      "outputs": []
    }
  ]
}